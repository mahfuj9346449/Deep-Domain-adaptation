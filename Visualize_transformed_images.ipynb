{
 "cells": [
  {
   "cell_type": "code",
   "execution_count": 12,
   "metadata": {},
   "outputs": [],
   "source": [
    "import numpy as np\n",
    "import os\n",
    "import matplotlib.pyplot as plt\n",
    "%matplotlib inline\n",
    "\n",
    "from IPython.display import Image\n",
    "\n",
    "from ipywidgets import interact, interactive, fixed, interact_manual\n",
    "import ipywidgets as widgets\n",
    "from time import time\n",
    "\n",
    "ROOT_path = os.path.expanduser(\"~\")"
   ]
  },
  {
   "cell_type": "markdown",
   "metadata": {},
   "source": [
    "Visualize three datasets (MNIST, domain adaptated, MNIST-M)\n",
    "================"
   ]
  },
  {
   "cell_type": "code",
   "execution_count": 13,
   "metadata": {},
   "outputs": [],
   "source": [
    "source_domain_imgs_path = os.path.join(ROOT_path, '.keras/datasets/mnist_x.npy')\n",
    "# domain_adapted_imgs_path = \"./domain_adapted/generated.npy\"\n",
    "domain_adapted_imgs_path = \"./domain_adapted/Exp7/generated.npy\"\n",
    "target_domain_imgs_path = os.path.join(ROOT_path, '.keras/datasets/mnistm_x.npy')"
   ]
  },
  {
   "cell_type": "code",
   "execution_count": 14,
   "metadata": {},
   "outputs": [
    {
     "name": "stdout",
     "output_type": "stream",
     "text": [
      "Loading data...\n",
      "Done.\n",
      "Elapsed time 1.9731709957122803\n"
     ]
    }
   ],
   "source": [
    "### Load data\n",
    "\n",
    "print(\"Loading data...\")\n",
    "st = time()\n",
    "source_domain_images = np.load(source_domain_imgs_path)\n",
    "domain_adapted_images = np.load(domain_adapted_imgs_path)\n",
    "target_domain_images = np.load(target_domain_imgs_path)\n",
    "\n",
    "# The above images have pixel values in [-1,1]\n",
    "source_domain_images = (source_domain_images+1)/2.\n",
    "domain_adapted_images = (domain_adapted_images+1)/2.\n",
    "target_domain_images = (target_domain_images+1)/2.\n",
    "et = time()\n",
    "print(\"Done.\")\n",
    "print(\"Elapsed time {}\".format(et-st))"
   ]
  },
  {
   "cell_type": "code",
   "execution_count": 15,
   "metadata": {},
   "outputs": [],
   "source": [
    "COLORS = ['viridis'] + sorted(m for m in plt.cm.datad if not m.endswith(\"_r\"))\n",
    "def show_result_from_npy_improved(i, colormap1='gray', colormap2='Reds', colormap3='Blues', **kwargs):\n",
    "    \"\"\"\n",
    "    Take tensor .npy as input\n",
    "    \"\"\"\n",
    "    global source_domain_images\n",
    "    global domain_adapted_images\n",
    "    global target_domain_images\n",
    "#     img_body = np.squeeze(bodys[i])#*255\n",
    "#     img_liver_predict = np.squeeze(liver_predict[i])#*255\n",
    "#     img_liver_gt = np.squeeze(liver_gt[i])#*255\n",
    "    \n",
    "#     print(np.sum(img_liver_predict))\n",
    "    f, axes = plt.subplots(1,3, figsize=(15, 45))\n",
    "    axes[0].set_title(\"Source domain images\")\n",
    "    axes[0].imshow(source_domain_images[i])#, cmap=colormap1\n",
    "#     if mask:\n",
    "#         axes[0].imshow(img_liver_gt, aspect=\"equal\", cmap=colormap3, alpha=0.4)\n",
    "#     if mask_with_predict:\n",
    "#         axes[0].imshow(img_liver_predict, aspect=\"equal\", cmap=colormap2, alpha=0.3)\n",
    "    \n",
    "#     axes[0,1].set_title(\"Liver mask prediction\")\n",
    "#     axes[0,1].imshow(img_liver_predict, aspect=\"equal\", cmap=colormap2)\n",
    "#     axes[1,0].set_title(\"Liver mask ground truth\")\n",
    "#     axes[1,0].imshow(img_liver_gt, aspect=\"equal\", cmap=colormap3)\n",
    "    axes[1].set_title(\"Domain adapted images\")#.format(dice_all[i]))\n",
    "    axes[1].imshow(domain_adapted_images[i])\n",
    "#     if show_gt:\n",
    "#         axes[1].imshow(img_liver_gt, aspect=\"equal\", cmap=colormap3, alpha=0.5)\n",
    "#     if show_predict:\n",
    "#         axes[1].imshow(img_liver_predict, aspect=\"equal\", cmap=colormap2, alpha=0.5)\n",
    "    axes[2].set_title(\"Target domain images\")#.format(dice_all[i]))\n",
    "    axes[2].imshow(target_domain_images[i])\n",
    "    "
   ]
  },
  {
   "cell_type": "code",
   "execution_count": 5,
   "metadata": {},
   "outputs": [
    {
     "data": {
      "application/vnd.jupyter.widget-view+json": {
       "model_id": "8098065c2149430da34e2fd575857627",
       "version_major": 2,
       "version_minor": 0
      },
      "text/html": [
       "<p>Failed to display Jupyter Widget of type <code>interactive</code>.</p>\n",
       "<p>\n",
       "  If you're reading this message in the Jupyter Notebook or JupyterLab Notebook, it may mean\n",
       "  that the widgets JavaScript is still loading. If this message persists, it\n",
       "  likely means that the widgets JavaScript library is either not installed or\n",
       "  not enabled. See the <a href=\"https://ipywidgets.readthedocs.io/en/stable/user_install.html\">Jupyter\n",
       "  Widgets Documentation</a> for setup instructions.\n",
       "</p>\n",
       "<p>\n",
       "  If you're reading this message in another frontend (for example, a static\n",
       "  rendering on GitHub or <a href=\"https://nbviewer.jupyter.org/\">NBViewer</a>),\n",
       "  it may mean that your frontend doesn't currently support widgets.\n",
       "</p>\n"
      ],
      "text/plain": [
       "interactive(children=(IntSlider(value=192, description='i', max=384), Text(value='gray', description='colormap1'), Text(value='Reds', description='colormap2'), Text(value='Blues', description='colormap3'), Output()), _dom_classes=('widget-interact',))"
      ]
     },
     "metadata": {},
     "output_type": "display_data"
    },
    {
     "data": {
      "text/plain": [
       "<function __main__.show_result_from_npy_improved(i, colormap1='gray', colormap2='Reds', colormap3='Blues', **kwargs)>"
      ]
     },
     "execution_count": 5,
     "metadata": {},
     "output_type": "execute_result"
    }
   ],
   "source": [
    "interact(show_result_from_npy_improved, i=(0,len(domain_adapted_images)))"
   ]
  },
  {
   "cell_type": "code",
   "execution_count": null,
   "metadata": {},
   "outputs": [],
   "source": []
  },
  {
   "cell_type": "code",
   "execution_count": null,
   "metadata": {},
   "outputs": [],
   "source": []
  },
  {
   "cell_type": "markdown",
   "metadata": {},
   "source": [
    "Visualize domain adapted images with different seed\n",
    "=================================="
   ]
  },
  {
   "cell_type": "code",
   "execution_count": 16,
   "metadata": {},
   "outputs": [],
   "source": [
    "source_domain_imgs_path = os.path.join(ROOT_path, '.keras/datasets/mnist_x.npy')\n",
    "domain_adapted_imgs_path = \"./domain_adapted/Exp7/debug.npy\"\n",
    "target_domain_imgs_path = os.path.join(ROOT_path, '.keras/datasets/mnistm_x.npy')"
   ]
  },
  {
   "cell_type": "code",
   "execution_count": null,
   "metadata": {},
   "outputs": [],
   "source": []
  },
  {
   "cell_type": "code",
   "execution_count": 17,
   "metadata": {},
   "outputs": [
    {
     "name": "stdout",
     "output_type": "stream",
     "text": [
      "Loading data...\n",
      "1.0 -1.0\n",
      "0.9993948 -1.0\n",
      "1.0 -1.0\n",
      "Done.\n",
      "Elapsed time 2.407095432281494\n"
     ]
    }
   ],
   "source": [
    "### Load data\n",
    "\n",
    "print(\"Loading data...\")\n",
    "st = time()\n",
    "source_domain_images = np.load(source_domain_imgs_path)\n",
    "domain_adapted_images = np.load(domain_adapted_imgs_path)\n",
    "target_domain_images = np.load(target_domain_imgs_path)\n",
    "\n",
    "print(np.max(source_domain_images), np.min(source_domain_images))\n",
    "print(np.max(domain_adapted_images), np.min(domain_adapted_images))\n",
    "print(np.max(target_domain_images), np.min(target_domain_images))\n",
    "# The above images have pixel values in [-1,1]\n",
    "source_domain_images = (source_domain_images+1)/2.\n",
    "domain_adapted_images = (domain_adapted_images+1)/2.\n",
    "target_domain_images = (target_domain_images+1)/2.\n",
    "et = time()\n",
    "print(\"Done.\")\n",
    "print(\"Elapsed time {}\".format(et-st))"
   ]
  },
  {
   "cell_type": "code",
   "execution_count": null,
   "metadata": {},
   "outputs": [],
   "source": [
    "domain_adapted_images.shape"
   ]
  },
  {
   "cell_type": "code",
   "execution_count": null,
   "metadata": {},
   "outputs": [],
   "source": []
  },
  {
   "cell_type": "code",
   "execution_count": 18,
   "metadata": {},
   "outputs": [],
   "source": [
    "COLORS = ['viridis'] + sorted(m for m in plt.cm.datad if not m.endswith(\"_r\"))\n",
    "def show_result_from_npy_improved(i, **kwargs):\n",
    "    \"\"\"\n",
    "    Take tensor .npy as input\n",
    "    \"\"\"\n",
    "    global source_domain_images\n",
    "    global domain_adapted_images\n",
    "    global target_domain_images\n",
    "\n",
    "\n",
    "    \n",
    "    \n",
    "    r = 3\n",
    "    c = 15\n",
    "    fig, axs = plt.subplots(r, c, figsize=(45, 15))\n",
    "    \n",
    "    for j in range(c):\n",
    "        axs[0,j].imshow(source_domain_images[j])\n",
    "        #axs[i, j].set_title(titles[i])\n",
    "        axs[0,j].axis('off')\n",
    "    for j in range(c):\n",
    "        axs[1,j].imshow(domain_adapted_images[i][j])\n",
    "        #axs[i, j].set_title(titles[i])\n",
    "        axs[1,j].axis('off')\n",
    "    print(len(domain_adapted_images[i]))\n",
    "    \n",
    "    for j in range(c):\n",
    "        axs[2,j].imshow(target_domain_images[j])\n",
    "        #axs[i, j].set_title(titles[i])\n",
    "        axs[2,j].axis('off')\n",
    "            "
   ]
  },
  {
   "cell_type": "code",
   "execution_count": 19,
   "metadata": {},
   "outputs": [
    {
     "data": {
      "application/vnd.jupyter.widget-view+json": {
       "model_id": "4bbf083668eb4f058dd430d46bb1a1fc",
       "version_major": 2,
       "version_minor": 0
      },
      "text/html": [
       "<p>Failed to display Jupyter Widget of type <code>interactive</code>.</p>\n",
       "<p>\n",
       "  If you're reading this message in the Jupyter Notebook or JupyterLab Notebook, it may mean\n",
       "  that the widgets JavaScript is still loading. If this message persists, it\n",
       "  likely means that the widgets JavaScript library is either not installed or\n",
       "  not enabled. See the <a href=\"https://ipywidgets.readthedocs.io/en/stable/user_install.html\">Jupyter\n",
       "  Widgets Documentation</a> for setup instructions.\n",
       "</p>\n",
       "<p>\n",
       "  If you're reading this message in another frontend (for example, a static\n",
       "  rendering on GitHub or <a href=\"https://nbviewer.jupyter.org/\">NBViewer</a>),\n",
       "  it may mean that your frontend doesn't currently support widgets.\n",
       "</p>\n"
      ],
      "text/plain": [
       "interactive(children=(IntSlider(value=50, description='i'), Output()), _dom_classes=('widget-interact',))"
      ]
     },
     "metadata": {},
     "output_type": "display_data"
    },
    {
     "data": {
      "text/plain": [
       "<function __main__.show_result_from_npy_improved(i, **kwargs)>"
      ]
     },
     "execution_count": 19,
     "metadata": {},
     "output_type": "execute_result"
    }
   ],
   "source": [
    "interact(show_result_from_npy_improved, i=(0,len(domain_adapted_images)))"
   ]
  },
  {
   "cell_type": "code",
   "execution_count": null,
   "metadata": {},
   "outputs": [],
   "source": []
  }
 ],
 "metadata": {
  "kernelspec": {
   "display_name": "Python 3",
   "language": "python",
   "name": "python3"
  },
  "language_info": {
   "codemirror_mode": {
    "name": "ipython",
    "version": 3
   },
   "file_extension": ".py",
   "mimetype": "text/x-python",
   "name": "python",
   "nbconvert_exporter": "python",
   "pygments_lexer": "ipython3",
   "version": "3.6.4"
  }
 },
 "nbformat": 4,
 "nbformat_minor": 2
}
