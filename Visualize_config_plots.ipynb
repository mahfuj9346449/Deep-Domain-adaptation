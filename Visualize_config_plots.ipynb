{
 "cells": [
  {
   "cell_type": "code",
   "execution_count": null,
   "metadata": {},
   "outputs": [],
   "source": [
    "import os\n",
    "import numpy as np\n",
    "import dill\n",
    "%matplotlib inline\n",
    "import matplotlib.pyplot as plt"
   ]
  },
  {
   "cell_type": "code",
   "execution_count": null,
   "metadata": {},
   "outputs": [],
   "source": [
    "def print_config(filepath):\n",
    "    dirname = filepath.split(\"/\")[-4:-1]\n",
    "    print(\"=\"*50)\n",
    "    print(\"Configuration of folder: {}\".format(\"/\".join(dirname)))\n",
    "    print(\"=\"*50)\n",
    "    with open(filepath, \"rb\") as file:\n",
    "        d = dill.load(file)\n",
    "    for key in d:\n",
    "        print(key, d[key])\n",
    "def plot_D_statistic(filepath, show=False, cut=None, save2dir=None):\n",
    "    with open(filepath, 'r') as file:\n",
    "        history = np.loadtxt(file, delimiter=\",\")\n",
    "    if save2dir is not None:\n",
    "        if not os.path.exists(save2dir):\n",
    "            os.makedirs(save2dir)\n",
    "    if cut is not None:\n",
    "        history = history[:cut]\n",
    "    length = len(history)\n",
    "    xaxis_scale = np.arange(0, length*10, 10)\n",
    "    plt.figure()\n",
    "    plt.title(\"Critic loss\")\n",
    "    plt.plot(xaxis_scale, history[:, 0], label=\"WGAN-GP loss\")\n",
    "    plt.plot(xaxis_scale, history[:, 1], label=\"real imgs loss\")\n",
    "    plt.plot(xaxis_scale, history[:, 2], label=\"fake imgs loss\")\n",
    "    plt.plot(xaxis_scale, history[:, 3], label=\"GP penalization loss\")\n",
    "    plt.xlabel(\"Iteration\")\n",
    "    plt.legend(loc=\"best\")\n",
    "    if save2dir is not None:\n",
    "        plt.savefig(os.path.join(save2dir, \"critic_loss.png\"))\n",
    "    if show:\n",
    "        plt.show()\n",
    "    \n",
    "\n",
    "    plt.figure()\n",
    "    plt.title(\"Critic accuracy\")\n",
    "    plt.plot(xaxis_scale, history[:, 4], label=\"Critic acc (real)\")\n",
    "    plt.plot(xaxis_scale, history[:, 5], label=\"Critic acc (fake)\")\n",
    "    plt.xlabel(\"Iteration\")\n",
    "    plt.legend(loc=\"best\")\n",
    "    if save2dir is not None:\n",
    "        plt.savefig(os.path.join(save2dir, \"critic_acc.png\"))\n",
    "    if show:\n",
    "        plt.show()\n",
    "    "
   ]
  },
  {
   "cell_type": "code",
   "execution_count": null,
   "metadata": {},
   "outputs": [],
   "source": [
    "# path = \"/home/lulin/na4/domain_adaptation/Deep-Domain-adaptation/Weights/MNIST_SEG/Exp5/config.dill\"\n",
    "# print_config(path)\n",
    "path = \"/home/lulin/na4/domain_adaptation/Deep-Domain-adaptation/Weights/WGAN_GP/Exp4_14/config.dill\"\n",
    "print_config(path)"
   ]
  },
  {
   "cell_type": "code",
   "execution_count": null,
   "metadata": {},
   "outputs": [],
   "source": [
    "path = \"/home/lulin/na4/domain_adaptation/Deep-Domain-adaptation/Weights/MNIST_SEG/Exp5/D_Losses.csv\"\n",
    "plot_D_statistic(path)"
   ]
  },
  {
   "cell_type": "code",
   "execution_count": null,
   "metadata": {},
   "outputs": [],
   "source": [
    "path = \"/home/lulin/na4/domain_adaptation/Deep-Domain-adaptation/Weights/MNIST_SEG/ExpNew1/config.dill\"\n",
    "print_config(path)"
   ]
  }
 ],
 "metadata": {
  "kernelspec": {
   "display_name": "Python 3",
   "language": "python",
   "name": "python3"
  },
  "language_info": {
   "codemirror_mode": {
    "name": "ipython",
    "version": 3
   },
   "file_extension": ".py",
   "mimetype": "text/x-python",
   "name": "python",
   "nbconvert_exporter": "python",
   "pygments_lexer": "ipython3",
   "version": "3.6.4"
  }
 },
 "nbformat": 4,
 "nbformat_minor": 2
}
